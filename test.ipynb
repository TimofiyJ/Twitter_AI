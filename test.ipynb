{
 "cells": [
  {
   "cell_type": "code",
   "execution_count": 1,
   "metadata": {},
   "outputs": [],
   "source": [
    "import pandas as pd"
   ]
  },
  {
   "cell_type": "code",
   "execution_count": 2,
   "metadata": {},
   "outputs": [],
   "source": [
    "df = pd.read_csv(\"historyinmemes_tweets.csv\")"
   ]
  },
  {
   "cell_type": "code",
   "execution_count": 3,
   "metadata": {},
   "outputs": [
    {
     "data": {
      "text/plain": [
       "<bound method NDFrame.head of                                                 link  \\\n",
       "0  https://twitter.com/historyinmemes/status/1808...   \n",
       "1  https://twitter.com/historyinmemes/status/1808...   \n",
       "2  https://twitter.com/historyinmemes/status/1808...   \n",
       "3  https://twitter.com/historyinmemes/status/1808...   \n",
       "4  https://twitter.com/historyinmemes/status/1808...   \n",
       "5  https://twitter.com/historyinmemes/status/1808...   \n",
       "6  https://twitter.com/historyinmemes/status/1808...   \n",
       "7  https://twitter.com/historyinmemes/status/1808...   \n",
       "8  https://twitter.com/historyinmemes/status/1808...   \n",
       "9  https://twitter.com/historyinmemes/status/1808...   \n",
       "\n",
       "                                                text           user  likes  \\\n",
       "0  Cristiano Ronaldo saw his mother crying in the...  Historic Vids  10728   \n",
       "1     This master’s kung fu skills are so impressive  Historic Vids    598   \n",
       "2  Tourists in London wait for police to arrive a...  Historic Vids    604   \n",
       "3          13-year-old kid wins against a black belt  Historic Vids   1139   \n",
       "4  This video of Kathleen Ledecky balancing choco...  Historic Vids   1234   \n",
       "5                           Bill Gate's biggest fear  Historic Vids    345   \n",
       "6  Brittany Murphy goes to Blockbuster in New Yor...  Historic Vids    967   \n",
       "7  How much money can you really save skipping co...  Historic Vids    236   \n",
       "8             He rejected $4 million for his company  Historic Vids    663   \n",
       "9    Do you know where Rolls-Royce markets its cars?  Historic Vids    562   \n",
       "\n",
       "   quotes  retweets  comments  \n",
       "0      67       957       263  \n",
       "1      14        96        75  \n",
       "2       9        37        99  \n",
       "3       9        71       116  \n",
       "4       9       156        85  \n",
       "5       7        33        90  \n",
       "6      19        79       104  \n",
       "7       2        31        58  \n",
       "8       2        40        65  \n",
       "9       3        85        73  >"
      ]
     },
     "execution_count": 3,
     "metadata": {},
     "output_type": "execute_result"
    }
   ],
   "source": [
    "df.head"
   ]
  }
 ],
 "metadata": {
  "kernelspec": {
   "display_name": ".venv",
   "language": "python",
   "name": "python3"
  },
  "language_info": {
   "codemirror_mode": {
    "name": "ipython",
    "version": 3
   },
   "file_extension": ".py",
   "mimetype": "text/x-python",
   "name": "python",
   "nbconvert_exporter": "python",
   "pygments_lexer": "ipython3",
   "version": "3.11.4"
  }
 },
 "nbformat": 4,
 "nbformat_minor": 2
}
