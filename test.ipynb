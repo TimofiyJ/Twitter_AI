{
 "cells": [
  {
   "cell_type": "code",
   "execution_count": 1,
   "metadata": {},
   "outputs": [],
   "source": [
    "import pandas as pd"
   ]
  },
  {
   "cell_type": "code",
   "execution_count": 7,
   "metadata": {},
   "outputs": [],
   "source": [
    "df = pd.read_csv(\"data.csv\")"
   ]
  },
  {
   "cell_type": "code",
   "execution_count": 8,
   "metadata": {},
   "outputs": [
    {
     "data": {
      "text/html": [
       "<div>\n",
       "<style scoped>\n",
       "    .dataframe tbody tr th:only-of-type {\n",
       "        vertical-align: middle;\n",
       "    }\n",
       "\n",
       "    .dataframe tbody tr th {\n",
       "        vertical-align: top;\n",
       "    }\n",
       "\n",
       "    .dataframe thead th {\n",
       "        text-align: right;\n",
       "    }\n",
       "</style>\n",
       "<table border=\"1\" class=\"dataframe\">\n",
       "  <thead>\n",
       "    <tr style=\"text-align: right;\">\n",
       "      <th></th>\n",
       "      <th>Unnamed: 0</th>\n",
       "      <th>link</th>\n",
       "      <th>text</th>\n",
       "      <th>user</th>\n",
       "      <th>likes</th>\n",
       "      <th>quotes</th>\n",
       "      <th>retweets</th>\n",
       "      <th>comments</th>\n",
       "      <th>media</th>\n",
       "    </tr>\n",
       "  </thead>\n",
       "  <tbody>\n",
       "    <tr>\n",
       "      <th>0</th>\n",
       "      <td>0</td>\n",
       "      <td>https://twitter.com/elonmusk/status/1809251925...</td>\n",
       "      <td>The legacy media are just propaganda puppets. ...</td>\n",
       "      <td>Elon Musk</td>\n",
       "      <td>58880</td>\n",
       "      <td>621</td>\n",
       "      <td>11330</td>\n",
       "      <td>5219</td>\n",
       "      <td>False</td>\n",
       "    </tr>\n",
       "    <tr>\n",
       "      <th>1</th>\n",
       "      <td>1</td>\n",
       "      <td>https://twitter.com/elonmusk/status/1809090690...</td>\n",
       "      <td>🚀🚀🇺🇸🇺🇸 AMERICA  🇺🇸🇺🇸🚀🚀</td>\n",
       "      <td>Elon Musk</td>\n",
       "      <td>214478</td>\n",
       "      <td>1580</td>\n",
       "      <td>24852</td>\n",
       "      <td>9674</td>\n",
       "      <td>True</td>\n",
       "    </tr>\n",
       "    <tr>\n",
       "      <th>2</th>\n",
       "      <td>2</td>\n",
       "      <td>https://twitter.com/elonmusk/status/1809070845...</td>\n",
       "      <td>Tesla Gigafactory Supercomputer Cluster</td>\n",
       "      <td>Elon Musk</td>\n",
       "      <td>170009</td>\n",
       "      <td>834</td>\n",
       "      <td>13743</td>\n",
       "      <td>6900</td>\n",
       "      <td>True</td>\n",
       "    </tr>\n",
       "    <tr>\n",
       "      <th>3</th>\n",
       "      <td>3</td>\n",
       "      <td>https://twitter.com/elonmusk/status/1808918183...</td>\n",
       "      <td>🇺🇸🇺🇸 Happy Independence Day! 🇺🇸🇺🇸</td>\n",
       "      <td>Elon Musk</td>\n",
       "      <td>416227</td>\n",
       "      <td>1916</td>\n",
       "      <td>32713</td>\n",
       "      <td>16067</td>\n",
       "      <td>False</td>\n",
       "    </tr>\n",
       "    <tr>\n",
       "      <th>4</th>\n",
       "      <td>4</td>\n",
       "      <td>https://twitter.com/elonmusk/status/1808727124...</td>\n",
       "      <td>Yeah!!</td>\n",
       "      <td>Elon Musk</td>\n",
       "      <td>360196</td>\n",
       "      <td>925</td>\n",
       "      <td>25165</td>\n",
       "      <td>11085</td>\n",
       "      <td>False</td>\n",
       "    </tr>\n",
       "  </tbody>\n",
       "</table>\n",
       "</div>"
      ],
      "text/plain": [
       "   Unnamed: 0                                               link  \\\n",
       "0           0  https://twitter.com/elonmusk/status/1809251925...   \n",
       "1           1  https://twitter.com/elonmusk/status/1809090690...   \n",
       "2           2  https://twitter.com/elonmusk/status/1809070845...   \n",
       "3           3  https://twitter.com/elonmusk/status/1808918183...   \n",
       "4           4  https://twitter.com/elonmusk/status/1808727124...   \n",
       "\n",
       "                                                text       user   likes  \\\n",
       "0  The legacy media are just propaganda puppets. ...  Elon Musk   58880   \n",
       "1                             🚀🚀🇺🇸🇺🇸 AMERICA  🇺🇸🇺🇸🚀🚀  Elon Musk  214478   \n",
       "2            Tesla Gigafactory Supercomputer Cluster  Elon Musk  170009   \n",
       "3                  🇺🇸🇺🇸 Happy Independence Day! 🇺🇸🇺🇸  Elon Musk  416227   \n",
       "4                                             Yeah!!  Elon Musk  360196   \n",
       "\n",
       "   quotes  retweets  comments  media  \n",
       "0     621     11330      5219  False  \n",
       "1    1580     24852      9674   True  \n",
       "2     834     13743      6900   True  \n",
       "3    1916     32713     16067  False  \n",
       "4     925     25165     11085  False  "
      ]
     },
     "execution_count": 8,
     "metadata": {},
     "output_type": "execute_result"
    },
    {
     "ename": "",
     "evalue": "",
     "output_type": "error",
     "traceback": [
      "\u001b[1;31mThe Kernel crashed while executing code in the current cell or a previous cell. \n",
      "\u001b[1;31mPlease review the code in the cell(s) to identify a possible cause of the failure. \n",
      "\u001b[1;31mClick <a href='https://aka.ms/vscodeJupyterKernelCrash'>here</a> for more info. \n",
      "\u001b[1;31mView Jupyter <a href='command:jupyter.viewOutput'>log</a> for further details."
     ]
    }
   ],
   "source": [
    "df.head()"
   ]
  },
  {
   "cell_type": "code",
   "execution_count": null,
   "metadata": {},
   "outputs": [],
   "source": []
  }
 ],
 "metadata": {
  "kernelspec": {
   "display_name": ".venv",
   "language": "python",
   "name": "python3"
  },
  "language_info": {
   "codemirror_mode": {
    "name": "ipython",
    "version": 3
   },
   "file_extension": ".py",
   "mimetype": "text/x-python",
   "name": "python",
   "nbconvert_exporter": "python",
   "pygments_lexer": "ipython3",
   "version": "3.11.4"
  }
 },
 "nbformat": 4,
 "nbformat_minor": 2
}
